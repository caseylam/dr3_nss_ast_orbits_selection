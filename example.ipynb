{
 "cells": [
  {
   "cell_type": "code",
   "execution_count": 1,
   "id": "d61cfa6f-c6a8-4f2e-937e-17a189f36a81",
   "metadata": {},
   "outputs": [],
   "source": [
    "# Calculating the probability of Gaia BH1 being included in the NSS astrometric orbits catalog."
   ]
  },
  {
   "cell_type": "code",
   "execution_count": 2,
   "id": "20163dc3-29a2-4f3c-96b9-cc48fa1236c3",
   "metadata": {},
   "outputs": [],
   "source": [
    "import p_nss"
   ]
  },
  {
   "cell_type": "code",
   "execution_count": 3,
   "id": "d46cdd63-b55b-4bb8-b4a1-40d645b9c10b",
   "metadata": {},
   "outputs": [],
   "source": [
    "# Info about Gaia BHs.                                                                                                                                                                                    \n",
    "bh1 = {'RA' : 262.17,\n",
    "       'Dec' : -0.58,\n",
    "       'Porb' : 185.6,\n",
    "       'e' : 0.451,\n",
    "       'parallax' : 2.09,\n",
    "       'M1' : 9.62,\n",
    "       'M2' : 0.93,\n",
    "       'G1' :  999,\n",
    "       'G2' : 13.77,\n",
    "       'M_G1' : 999,\n",
    "       'M_G2' : 4.6,\n",
    "       'A_G': 0.76}"
   ]
  },
  {
   "cell_type": "code",
   "execution_count": 4,
   "id": "154b8524-174c-4549-b716-4b41ddb2365c",
   "metadata": {},
   "outputs": [
    {
     "name": "stdout",
     "output_type": "stream",
     "text": [
      "Gaia BH1 detection probability\n",
      "Probability of detecting [0 - 1]: 0.3762\n"
     ]
    },
    {
     "data": {
      "text/plain": [
       "0.3762"
      ]
     },
     "execution_count": 4,
     "metadata": {},
     "output_type": "execute_result"
    }
   ],
   "source": [
    "# Example using the apparent magnitudes.\n",
    "print('Gaia BH1 detection probability')\n",
    "p_nss.p_nss(bh1['RA'], bh1['Dec'],\n",
    "      bh1['Porb'], bh1['e'], bh1['parallax'],\n",
    "      bh1['M1'], bh1['M2'],\n",
    "      bh1['G1'], bh1['G2'],\n",
    "      n_sample = 100000, mag='app')"
   ]
  },
  {
   "cell_type": "code",
   "execution_count": 5,
   "id": "7f12dc3a-1c87-4e2e-a2c2-bba675c3bd90",
   "metadata": {},
   "outputs": [
    {
     "name": "stdout",
     "output_type": "stream",
     "text": [
      "Gaia BH1 detection probability\n",
      "Probability of detecting [0 - 1]: 0.3773\n"
     ]
    },
    {
     "data": {
      "text/plain": [
       "0.37733"
      ]
     },
     "execution_count": 5,
     "metadata": {},
     "output_type": "execute_result"
    }
   ],
   "source": [
    "# Example using the absolute magnitudes.\n",
    "print('Gaia BH1 detection probability')\n",
    "p_nss.p_nss(bh1['RA'], bh1['Dec'],\n",
    "      bh1['Porb'], bh1['e'], bh1['parallax'],\n",
    "      bh1['M1'], bh1['M2'],\n",
    "      bh1['M_G1'], bh1['M_G2'],\n",
    "      n_sample = 100000, mag='abs')"
   ]
  },
  {
   "cell_type": "code",
   "execution_count": null,
   "id": "312242b1-fbfd-4c69-b27c-07bc10e21475",
   "metadata": {},
   "outputs": [],
   "source": []
  }
 ],
 "metadata": {
  "kernelspec": {
   "display_name": "Python 3 (ipykernel)",
   "language": "python",
   "name": "python3"
  },
  "language_info": {
   "codemirror_mode": {
    "name": "ipython",
    "version": 3
   },
   "file_extension": ".py",
   "mimetype": "text/x-python",
   "name": "python",
   "nbconvert_exporter": "python",
   "pygments_lexer": "ipython3",
   "version": "3.10.13"
  }
 },
 "nbformat": 4,
 "nbformat_minor": 5
}
